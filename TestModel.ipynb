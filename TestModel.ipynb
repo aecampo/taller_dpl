{
 "cells": [
  {
   "cell_type": "code",
   "execution_count": 6,
   "metadata": {},
   "outputs": [
    {
     "name": "stdout",
     "output_type": "stream",
     "text": [
      "El paciente corresponde a la clase sano \n"
     ]
    },
    {
     "name": "stderr",
     "output_type": "stream",
     "text": [
      "  % Total    % Received % Xferd  Average Speed   Time    Time     Time  Current\n",
      "                                 Dload  Upload   Total   Spent    Left  Speed\n",
      "\n",
      "  0     0    0     0    0     0      0      0 --:--:-- --:--:-- --:--:--     0\n",
      "100    89  100    41  100    48    836    979 --:--:-- --:--:-- --:--:--  2119\n"
     ]
    }
   ],
   "source": [
    "!curl -d \"{\\\"Datos\\\":[[52,1,0,125,212,0,1,168,0,1.0,2,2,3]]}\" -H \"Content-Type: application/json\" -X POST http://127.0.0.1:5000/predecir"
   ]
  },
  {
   "cell_type": "code",
   "execution_count": 7,
   "metadata": {},
   "outputs": [
    {
     "name": "stdout",
     "output_type": "stream",
     "text": [
      "El paciente corresponde a la clase enfermo \n"
     ]
    },
    {
     "name": "stderr",
     "output_type": "stream",
     "text": [
      "  % Total    % Received % Xferd  Average Speed   Time    Time     Time  Current\n",
      "                                 Dload  Upload   Total   Spent    Left  Speed\n",
      "\n",
      "  0     0    0     0    0     0      0      0 --:--:-- --:--:-- --:--:--     0\n",
      "100    92  100    44  100    48    880    960 --:--:-- --:--:-- --:--:--  2090\n"
     ]
    }
   ],
   "source": [
    "!curl -d \"{\\\"Datos\\\":[[59,1,1,140,221,0,1,164,1,0.0,2,0,2]]}\" -H \"Content-Type: application/json\" -X POST http://127.0.0.1:5000/predecir"
   ]
  },
  {
   "cell_type": "code",
   "execution_count": 8,
   "metadata": {},
   "outputs": [
    {
     "name": "stdout",
     "output_type": "stream",
     "text": [
      "El paciente corresponde a la clase sano \n",
      "El paciente corresponde a la clase enfermo \n"
     ]
    },
    {
     "name": "stderr",
     "output_type": "stream",
     "text": [
      "  % Total    % Received % Xferd  Average Speed   Time    Time     Time  Current\n",
      "                                 Dload  Upload   Total   Spent    Left  Speed\n",
      "\n",
      "  0     0    0     0    0     0      0      0 --:--:-- --:--:-- --:--:--     0\n",
      "100   170  100    85  100    85   1847   1847 --:--:-- --:--:-- --:--:--  4473\n"
     ]
    }
   ],
   "source": [
    "!curl -d \"{\\\"Datos\\\":[[52,1,0,125,212,0,1,168,0,1.0,2,2,3],[59,1,1,140,221,0,1,164,1,0.0,2,0,2]]}\" -H \"Content-Type: application/json\" -X POST http://127.0.0.1:5000/predecir"
   ]
  },
  {
   "cell_type": "code",
   "execution_count": 10,
   "metadata": {},
   "outputs": [
    {
     "name": "stdout",
     "output_type": "stream",
     "text": [
      "<!DOCTYPE html>\n",
      "\t<html>\n",
      "\t  <head>\n",
      "\t\t<meta name=\"viewport\" content=\"width=device-width, initial-scale=1\">\n",
      "\t\t<meta charset=\"utf-8\">\n",
      "\t\t<title>No such app</title>\n",
      "\t\t<style media=\"screen\">\n",
      "\t\t  html,body,iframe {\n",
      "\t\t\tmargin: 0;\n",
      "\t\t\tpadding: 0;\n",
      "\t\t  }\n",
      "\t\t  html,body {\n",
      "\t\t\theight: 100%;\n",
      "\t\t\toverflow: hidden;\n",
      "\t\t  }\n",
      "\t\t  iframe {\n",
      "\t\t\twidth: 100%;\n",
      "\t\t\theight: 100%;\n",
      "\t\t\tborder: 0;"
     ]
    },
    {
     "name": "stderr",
     "output_type": "stream",
     "text": [
      "  % Total    % Received % Xferd  Average Speed   Time    Time     Time  Current\n",
      "                                 Dload  Upload   Total   Spent    Left  Speed\n",
      "\n",
      "  0     0    0     0    0     0      0      0 --:--:-- --:--:-- --:--:--     0\n",
      "  0     0    0     0    0     0      0      0 --:--:-- --:--:-- --:--:--     0\n",
      "100   579  100   494  100    85   1112    191 --:--:-- --:--:-- --:--:--  1327\n"
     ]
    },
    {
     "name": "stdout",
     "output_type": "stream",
     "text": [
      "\n",
      "\t\t  }\n",
      "\t\t</style>\n",
      "\t  </head>\n",
      "\t  <body>\n",
      "\t\t<iframe src=\"//www.herokucdn.com/error-pages/no-such-app.html\"></iframe>\n",
      "\t  </body>\n",
      "\t</html>\n"
     ]
    }
   ],
   "source": [
    "!curl -d \"{\\\"Datos\\\":[[52,1,0,125,212,0,1,168,0,1.0,2,2,3],[59,1,1,140,221,0,1,164,1,0.0,2,0,2]]}\" -H \"Content-Type: application/json\" -X POST http://deploy-depltall.herokuapp.com/predecir"
   ]
  },
  {
   "cell_type": "code",
   "execution_count": null,
   "metadata": {},
   "outputs": [],
   "source": []
  }
 ],
 "metadata": {
  "kernelspec": {
   "display_name": "entornomp1",
   "language": "python",
   "name": "entornomp1"
  },
  "language_info": {
   "codemirror_mode": {
    "name": "ipython",
    "version": 3
   },
   "file_extension": ".py",
   "mimetype": "text/x-python",
   "name": "python",
   "nbconvert_exporter": "python",
   "pygments_lexer": "ipython3",
   "version": "3.7.10"
  }
 },
 "nbformat": 4,
 "nbformat_minor": 4
}
